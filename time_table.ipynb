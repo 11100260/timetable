{
 "cells": [
  {
   "cell_type": "code",
   "execution_count": 7,
   "metadata": {
    "scrolled": false
   },
   "outputs": [
    {
     "name": "stdout",
     "output_type": "stream",
     "text": [
      "只今金曜日2限\n",
      "ι18\n",
      "が空いています\n"
     ]
    }
   ],
   "source": [
    "import datetime\n",
    "youbi = [\"月\",\"火\",\"水\",\"木\",\"金\",\"土\",\"日\"]\n",
    "now = datetime.datetime.now()\n",
    "day_time=(str(now.weekday())+str(now.strftime(\"%H%M\")))\n",
    "dtlist =[int(x) for x in list(str(day_time))]\n",
    "time = ''.join(map(str, dtlist[1:]))#mapで要素すべてを文字列に , [1:]で1番目以降の数字を文字列に\n",
    "kappa18=[\n",
    "    [1,1,1,0,0],\n",
    "    [0,0,1,0,0],\n",
    "    [0,0,1,0,0],\n",
    "    [1,1,1,1,1],\n",
    "    [0,0,1,0,0],\n",
    "]\n",
    "upsilon17=[\n",
    "    [1,1,1,0,0],\n",
    "    [0,0,1,0,0],\n",
    "    [0,0,1,0,0],\n",
    "    [0,1,1,0,0],\n",
    "    [0,0,1,0,0],\n",
    "]\n",
    "iota18=[\n",
    "    [1,1,1,0,0],\n",
    "    [0,0,1,0,0],\n",
    "    [0,0,1,0,0],\n",
    "    [1,1,1,0,0],\n",
    "    [1,1,1,0,0],\n",
    "]\n",
    "omicron17=[\n",
    "    [1,1,1,1,1],\n",
    "    [0,0,1,0,0],\n",
    "    [0,0,1,0,0],\n",
    "    [1,1,1,0,0],\n",
    "    [0,0,1,0,0],\n",
    "]\n",
    "if int(dtlist[0])>4 : #[0]は曜日を示している\n",
    "    s=100\n",
    "    print (\"全ての教室が空いています\")#土曜日か日曜日である場合は \"全ての教室が空いています\"\n",
    "elif int(time)>1800 or int(time)<925:\n",
    "    s=100\n",
    "    print (\"全ての教室が空いています\")#0925以前もしくは1800以降は全ての教室が空いている.\n",
    "else:\n",
    "    if int(time)<1055 and int(time)>924:\n",
    "        s=0\n",
    "        print(\"只今\"+youbi[(int(dtlist[0]))]+\"曜日\"+str(s+1)+\"限\")\n",
    "    elif int(time)<1240 and int(time)>1109:\n",
    "        s=1\n",
    "        print(\"只今\"+youbi[(int(dtlist[0]))]+\"曜日\"+str(s+1)+\"限\")    \n",
    "    elif int(time)<1430 and int(time)>1259:\n",
    "        s=2\n",
    "        print(\"只今\"+youbi[(int(dtlist[0]))]+\"曜日\"+str(s+1)+\"限\")    \n",
    "    elif int(time)<1615 and int(time)>1444:\n",
    "        s=3\n",
    "        print(\"只今\"+youbi[(int(dtlist[0]))]+\"曜日\"+str(s+1)+\"限\")    \n",
    "    elif int(time)<1615 and int(time)>1444:\n",
    "        s=4\n",
    "        print(\"只今\"+youbi[(int(dtlist[0]))]+\"曜日\"+str(s+1)+\"限\")        \n",
    "    else:\n",
    "        s=100\n",
    "        print(\"休み時間です\")\n",
    "if int(s)==100:\n",
    "    print('') \n",
    "elif int(kappa18[(int(dtlist[0]))][s])>0:\n",
    "     print(\"κ18\")\n",
    "if int(s)==100:\n",
    "    print('')         \n",
    "elif int(upsilon17[(int(dtlist[0]))][s])>0:\n",
    "     print(\"ε17\")\n",
    "if int(s)==100:\n",
    "    print('') \n",
    "elif int(iota18[(int(dtlist[0]))][s])>0:\n",
    "     print(\"ι18\")\n",
    "if int(s)==100:\n",
    "    print('') \n",
    "elif int(omicron17[(int(dtlist[0]))][s])>0:\n",
    "     print(\"ο17\")\n",
    "if int(s)==100:\n",
    "    print('') \n",
    "else:\n",
    "     print(\"が空いています\")"
   ]
  }
 ],
 "metadata": {
  "kernelspec": {
   "display_name": "Python 3",
   "language": "python",
   "name": "python3"
  },
  "language_info": {
   "codemirror_mode": {
    "name": "ipython",
    "version": 3
   },
   "file_extension": ".py",
   "mimetype": "text/x-python",
   "name": "python",
   "nbconvert_exporter": "python",
   "pygments_lexer": "ipython3",
   "version": "3.6.1"
  }
 },
 "nbformat": 4,
 "nbformat_minor": 2
}
