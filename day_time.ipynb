{
 "cells": [
  {
   "cell_type": "code",
   "execution_count": 1,
   "metadata": {},
   "outputs": [
    {
     "name": "stdout",
     "output_type": "stream",
     "text": [
      "水曜日\n",
      "授業時間外\n"
     ]
    }
   ],
   "source": [
    "import datetime\n",
    "youbi = [\"月\",\"火\",\"水\",\"木\",\"金\",\"土\",\"日\"]\n",
    "now = datetime.datetime.now()\n",
    "day = now.weekday()\n",
    "print (youbi[day]+\"曜日\")\n",
    "if int(now.strftime(\"%H%M\"))<1055 and int(now.strftime(\"%H%M\"))>924:\n",
    "        print(\"1限\")\n",
    "elif int(now.strftime(\"%H%M\"))<1240 and int(now.strftime(\"%H%M\"))>1109:\n",
    "        print(\"2限\")    \n",
    "elif int(now.strftime(\"%H%M\"))<1430 and int(now.strftime(\"%H%M\"))>1259:\n",
    "        print(\"3限\")    \n",
    "elif int(now.strftime(\"%H%M\"))<1615 and int(now.strftime(\"%H%M\"))>1444:\n",
    "        print(\"4限\")    \n",
    "elif int(now.strftime(\"%H%M\"))<1800 and int(now.strftime(\"%H%M\"))>1629:\n",
    "        print(\"5限\")    \n",
    "else:\n",
    "        print(\"授業時間外\")"
   ]
  },
  {
   "cell_type": "code",
   "execution_count": null,
   "metadata": {
    "collapsed": true
   },
   "outputs": [],
   "source": []
  }
 ],
 "metadata": {
  "kernelspec": {
   "display_name": "Python 3",
   "language": "python",
   "name": "python3"
  },
  "language_info": {
   "codemirror_mode": {
    "name": "ipython",
    "version": 3
   },
   "file_extension": ".py",
   "mimetype": "text/x-python",
   "name": "python",
   "nbconvert_exporter": "python",
   "pygments_lexer": "ipython3",
   "version": "3.6.1"
  }
 },
 "nbformat": 4,
 "nbformat_minor": 2
}
